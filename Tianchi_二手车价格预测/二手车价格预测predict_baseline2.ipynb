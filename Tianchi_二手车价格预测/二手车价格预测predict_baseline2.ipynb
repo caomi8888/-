{
 "cells": [
  {
   "cell_type": "code",
   "execution_count": 23,
   "metadata": {},
   "outputs": [],
   "source": [
    "import pandas as pd\n",
    "import pickle\n",
    "with open('./X_data.pkl','rb') as file:\n",
    "    X_data=pickle.load(file)\n",
    "with open('./Y_data.pkl','rb') as file:\n",
    "    Y_data=pickle.load(file)\n",
    "with open('./X_test.pkl','rb') as file:\n",
    "    X_test=pickle.load(file)"
   ]
  },
  {
   "cell_type": "code",
   "execution_count": 24,
   "metadata": {},
   "outputs": [
    {
     "data": {
      "text/html": [
       "<div>\n",
       "<style scoped>\n",
       "    .dataframe tbody tr th:only-of-type {\n",
       "        vertical-align: middle;\n",
       "    }\n",
       "\n",
       "    .dataframe tbody tr th {\n",
       "        vertical-align: top;\n",
       "    }\n",
       "\n",
       "    .dataframe thead th {\n",
       "        text-align: right;\n",
       "    }\n",
       "</style>\n",
       "<table border=\"1\" class=\"dataframe\">\n",
       "  <thead>\n",
       "    <tr style=\"text-align: right;\">\n",
       "      <th></th>\n",
       "      <th>regDate</th>\n",
       "      <th>creatDate</th>\n",
       "    </tr>\n",
       "  </thead>\n",
       "  <tbody>\n",
       "    <tr>\n",
       "      <th>0</th>\n",
       "      <td>20040402</td>\n",
       "      <td>20160404</td>\n",
       "    </tr>\n",
       "    <tr>\n",
       "      <th>1</th>\n",
       "      <td>20030301</td>\n",
       "      <td>20160309</td>\n",
       "    </tr>\n",
       "    <tr>\n",
       "      <th>2</th>\n",
       "      <td>20040403</td>\n",
       "      <td>20160402</td>\n",
       "    </tr>\n",
       "    <tr>\n",
       "      <th>3</th>\n",
       "      <td>19960908</td>\n",
       "      <td>20160312</td>\n",
       "    </tr>\n",
       "    <tr>\n",
       "      <th>4</th>\n",
       "      <td>20120103</td>\n",
       "      <td>20160313</td>\n",
       "    </tr>\n",
       "    <tr>\n",
       "      <th>...</th>\n",
       "      <td>...</td>\n",
       "      <td>...</td>\n",
       "    </tr>\n",
       "    <tr>\n",
       "      <th>149995</th>\n",
       "      <td>20000607</td>\n",
       "      <td>20160327</td>\n",
       "    </tr>\n",
       "    <tr>\n",
       "      <th>149996</th>\n",
       "      <td>20091102</td>\n",
       "      <td>20160312</td>\n",
       "    </tr>\n",
       "    <tr>\n",
       "      <th>149997</th>\n",
       "      <td>20101003</td>\n",
       "      <td>20160328</td>\n",
       "    </tr>\n",
       "    <tr>\n",
       "      <th>149998</th>\n",
       "      <td>20060312</td>\n",
       "      <td>20160401</td>\n",
       "    </tr>\n",
       "    <tr>\n",
       "      <th>149999</th>\n",
       "      <td>19990204</td>\n",
       "      <td>20160305</td>\n",
       "    </tr>\n",
       "  </tbody>\n",
       "</table>\n",
       "<p>150000 rows × 2 columns</p>\n",
       "</div>"
      ],
      "text/plain": [
       "         regDate  creatDate\n",
       "0       20040402   20160404\n",
       "1       20030301   20160309\n",
       "2       20040403   20160402\n",
       "3       19960908   20160312\n",
       "4       20120103   20160313\n",
       "...          ...        ...\n",
       "149995  20000607   20160327\n",
       "149996  20091102   20160312\n",
       "149997  20101003   20160328\n",
       "149998  20060312   20160401\n",
       "149999  19990204   20160305\n",
       "\n",
       "[150000 rows x 2 columns]"
      ]
     },
     "execution_count": 24,
     "metadata": {},
     "output_type": "execute_result"
    }
   ],
   "source": [
    "X_data[['regDate','creatDate']]"
   ]
  },
  {
   "cell_type": "code",
   "execution_count": 25,
   "metadata": {},
   "outputs": [
    {
     "data": {
      "text/html": [
       "<div>\n",
       "<style scoped>\n",
       "    .dataframe tbody tr th:only-of-type {\n",
       "        vertical-align: middle;\n",
       "    }\n",
       "\n",
       "    .dataframe tbody tr th {\n",
       "        vertical-align: top;\n",
       "    }\n",
       "\n",
       "    .dataframe thead th {\n",
       "        text-align: right;\n",
       "    }\n",
       "</style>\n",
       "<table border=\"1\" class=\"dataframe\">\n",
       "  <thead>\n",
       "    <tr style=\"text-align: right;\">\n",
       "      <th></th>\n",
       "      <th>regDate</th>\n",
       "      <th>creatDate</th>\n",
       "    </tr>\n",
       "  </thead>\n",
       "  <tbody>\n",
       "    <tr>\n",
       "      <th>0</th>\n",
       "      <td>2004-04-02</td>\n",
       "      <td>2016-04-04</td>\n",
       "    </tr>\n",
       "    <tr>\n",
       "      <th>1</th>\n",
       "      <td>2003-03-01</td>\n",
       "      <td>2016-03-09</td>\n",
       "    </tr>\n",
       "    <tr>\n",
       "      <th>2</th>\n",
       "      <td>2004-04-03</td>\n",
       "      <td>2016-04-02</td>\n",
       "    </tr>\n",
       "    <tr>\n",
       "      <th>3</th>\n",
       "      <td>1996-09-08</td>\n",
       "      <td>2016-03-12</td>\n",
       "    </tr>\n",
       "    <tr>\n",
       "      <th>4</th>\n",
       "      <td>2012-01-03</td>\n",
       "      <td>2016-03-13</td>\n",
       "    </tr>\n",
       "    <tr>\n",
       "      <th>...</th>\n",
       "      <td>...</td>\n",
       "      <td>...</td>\n",
       "    </tr>\n",
       "    <tr>\n",
       "      <th>149995</th>\n",
       "      <td>2000-06-07</td>\n",
       "      <td>2016-03-27</td>\n",
       "    </tr>\n",
       "    <tr>\n",
       "      <th>149996</th>\n",
       "      <td>2009-11-02</td>\n",
       "      <td>2016-03-12</td>\n",
       "    </tr>\n",
       "    <tr>\n",
       "      <th>149997</th>\n",
       "      <td>2010-10-03</td>\n",
       "      <td>2016-03-28</td>\n",
       "    </tr>\n",
       "    <tr>\n",
       "      <th>149998</th>\n",
       "      <td>2006-03-12</td>\n",
       "      <td>2016-04-01</td>\n",
       "    </tr>\n",
       "    <tr>\n",
       "      <th>149999</th>\n",
       "      <td>1999-02-04</td>\n",
       "      <td>2016-03-05</td>\n",
       "    </tr>\n",
       "  </tbody>\n",
       "</table>\n",
       "<p>150000 rows × 2 columns</p>\n",
       "</div>"
      ],
      "text/plain": [
       "          regDate  creatDate\n",
       "0      2004-04-02 2016-04-04\n",
       "1      2003-03-01 2016-03-09\n",
       "2      2004-04-03 2016-04-02\n",
       "3      1996-09-08 2016-03-12\n",
       "4      2012-01-03 2016-03-13\n",
       "...           ...        ...\n",
       "149995 2000-06-07 2016-03-27\n",
       "149996 2009-11-02 2016-03-12\n",
       "149997 2010-10-03 2016-03-28\n",
       "149998 2006-03-12 2016-04-01\n",
       "149999 1999-02-04 2016-03-05\n",
       "\n",
       "[150000 rows x 2 columns]"
      ]
     },
     "execution_count": 25,
     "metadata": {},
     "output_type": "execute_result"
    }
   ],
   "source": [
    "# 对日期格式进行清洗\n",
    "def f(x):\n",
    "    x=str(x)\n",
    "    if x[4:6]=='00':\n",
    "        return x[0:4]+'-'+'01'+'-'+x[6:8]\n",
    "    else:\n",
    "        return x[0:4]+'-'+x[4:6]+'-'+x[6:8]\n",
    "    \n",
    "X_data['regDate']=pd.to_datetime(X_data['regDate'].apply(f)) #这里apply运用了一个自己写的函数，来调整时间格式\n",
    "X_data['creatDate']=pd.to_datetime(X_data['creatDate'].apply(f))\n",
    "X_data[['regDate','creatDate']]        "
   ]
  },
  {
   "cell_type": "code",
   "execution_count": 31,
   "metadata": {},
   "outputs": [],
   "source": [
    "# 对X_test数据也要处理一下\n",
    "X_test['regDate']=pd.to_datetime(X_test['regDate'].apply(f)) #这里apply运用了一个自己写的函数，来调整时间格式\n",
    "X_test['creatDate']=pd.to_datetime(X_test['creatDate'].apply(f))"
   ]
  },
  {
   "cell_type": "code",
   "execution_count": 32,
   "metadata": {},
   "outputs": [],
   "source": [
    "#提取时间多尺度\n",
    "X_data['regDate_y']=X_data['regDate'].dt.year\n",
    "X_data['regDate_m']=X_data['regDate'].dt.month\n",
    "X_data['regDate_d']=X_data['regDate'].dt.day\n",
    "X_data\n",
    "\n",
    "X_test['regDate_y']=X_test['regDate'].dt.year\n",
    "X_test['regDate_m']=X_test['regDate'].dt.month\n",
    "X_test['regDate_d']=X_test['regDate'].dt.day"
   ]
  },
  {
   "cell_type": "code",
   "execution_count": 39,
   "metadata": {},
   "outputs": [],
   "source": [
    "#提取时间多尺度\n",
    "X_data['creatDate_y']=X_data['creatDate'].dt.year\n",
    "X_data['creatDate_m']=X_data['creatDate'].dt.month\n",
    "X_data['creatDate_d']=X_data['creatDate'].dt.day\n",
    "\n",
    "\n",
    "X_test['creatDate_y']=X_test['creatDate'].dt.year\n",
    "X_test['creatDate_m']=X_test['creatDate'].dt.month\n",
    "X_test['creatDate_d']=X_test['creatDate'].dt.day"
   ]
  },
  {
   "cell_type": "code",
   "execution_count": 40,
   "metadata": {},
   "outputs": [],
   "source": [
    "#提取时间diff\n",
    "#1991-01-01\n",
    "X_data['regDate'].min()\n",
    "X_test['regDate'].min()\n",
    "base_date=pd.to_datetime('1991-01-01')\n",
    "X_data['regDate_diff']=(X_data['regDate']-base_date).dt.days #间隔的天数\n",
    "X_test['regDate_diff']=(X_test['regDate']-base_date).dt.days"
   ]
  },
  {
   "cell_type": "code",
   "execution_count": 54,
   "metadata": {},
   "outputs": [],
   "source": [
    "#提取时间diff\n",
    "#1991-01-01\n",
    "X_data['creatDate'].min()\n",
    "X_test['creatDate'].min()\n",
    "base_date=pd.to_datetime('2014-03-10')# 这里应该找训练集，测试集中最小的数据\n",
    "\n",
    "X_data['creatDate_diff']=(X_data['creatDate']-base_date).dt.days #间隔的天数\n",
    "X_test['creatDate_diff']=(X_test['creatDate']-base_date).dt.days\n"
   ]
  },
  {
   "cell_type": "code",
   "execution_count": 55,
   "metadata": {},
   "outputs": [],
   "source": [
    "#构造新特征'creatDate-regDate\n",
    "X_data['creatDate-regDate']=(X_data['creatDate']-X_data['regDate']).dt.days #注意（）括号\n",
    "X_test['creatDate-regDate']=(X_test['creatDate']-X_test['regDate']).dt.days #注意（）括号"
   ]
  },
  {
   "cell_type": "code",
   "execution_count": 57,
   "metadata": {},
   "outputs": [],
   "source": [
    "#去掉原始的日期类型\n",
    "X_data.drop(['regDate','creatDate'],axis=1,inplace=True)\n",
    "X_test.drop(['regDate','creatDate'],axis=1,inplace=True)\n"
   ]
  },
  {
   "cell_type": "code",
   "execution_count": 58,
   "metadata": {},
   "outputs": [
    {
     "name": "stdout",
     "output_type": "stream",
     "text": [
      "[17:10:34] WARNING: C:/Users/Administrator/workspace/xgboost-win64_release_1.5.1/src/objective/regression_obj.cu:188: reg:linear is now deprecated in favor of reg:squarederror.\n",
      "[17:10:34] WARNING: C:/Users/Administrator/workspace/xgboost-win64_release_1.5.1/src/learner.cc:576: \n",
      "Parameters: { \"min_child_samples\" } might not be used.\n",
      "\n",
      "  This could be a false alarm, with some parameters getting used by language bindings but\n",
      "  then being mistakenly passed down to XGBoost core, or some parameter actually being used\n",
      "  but getting flagged wrongly here. Please open an issue if you find any such cases.\n",
      "\n",
      "\n"
     ]
    }
   ],
   "source": [
    "## 数据集切分\n",
    "from sklearn.model_selection import train_test_split\n",
    "x_train,x_val,y_train,y_val=train_test_split(X_data,Y_data,test_size=0.2,random_state=2021)\n",
    "import xgboost as xgb\n",
    "#创建xgb模型\n",
    "xgb=xgb.XGBRegressor(max_depth=6, learning_rate=0.01,n_estimators=2000,\n",
    "                     objective='reg:linear',tree_method='gpu_hist',\n",
    "                     subsample=0.8,colsample_bytree=0.8,\n",
    "                    min_child_samples=3, eval_metric='auc',reg_lambda=0.5)\n",
    "xgb.fit(x_train,y_train)\n",
    "y_pred=xgb.predict(x_val)"
   ]
  },
  {
   "cell_type": "code",
   "execution_count": 61,
   "metadata": {},
   "outputs": [
    {
     "name": "stdout",
     "output_type": "stream",
     "text": [
      "min -3187.6704\n",
      "max 87733.72\n",
      "ptp 90921.39\n",
      "mean 5914.145\n",
      "std 7323.731\n",
      "median 3308.695\n"
     ]
    }
   ],
   "source": [
    "import numpy as np\n",
    "#统计price的分布\n",
    "def show_stats(data):\n",
    "    print('min',np.min(data))\n",
    "    print('max',np.max(data))\n",
    "    print('ptp',np.ptp(data)) #计算最大值与最小值的差(极差) peak to peak\n",
    "    print('mean',np.mean(data))\n",
    "    print('std',np.std(data)) #标准差\n",
    "    print('median',np.median(data))\n",
    "#查询price的统计\n",
    "show_stats(y_pred)\n"
   ]
  },
  {
   "cell_type": "code",
   "execution_count": 62,
   "metadata": {},
   "outputs": [
    {
     "data": {
      "text/plain": [
       "590.9323803388496"
      ]
     },
     "execution_count": 62,
     "metadata": {},
     "output_type": "execute_result"
    }
   ],
   "source": [
    "from sklearn.metrics import mean_absolute_error\n",
    "mean_absolute_error(y_pred,y_val)"
   ]
  },
  {
   "cell_type": "code",
   "execution_count": 63,
   "metadata": {},
   "outputs": [
    {
     "name": "stdout",
     "output_type": "stream",
     "text": [
      "[17:14:14] WARNING: C:/Users/Administrator/workspace/xgboost-win64_release_1.5.1/src/objective/regression_obj.cu:188: reg:linear is now deprecated in favor of reg:squarederror.\n",
      "[17:14:14] WARNING: C:/Users/Administrator/workspace/xgboost-win64_release_1.5.1/src/learner.cc:576: \n",
      "Parameters: { \"min_child_samples\" } might not be used.\n",
      "\n",
      "  This could be a false alarm, with some parameters getting used by language bindings but\n",
      "  then being mistakenly passed down to XGBoost core, or some parameter actually being used\n",
      "  but getting flagged wrongly here. Please open an issue if you find any such cases.\n",
      "\n",
      "\n",
      "min -808.59863\n",
      "max 90722.86\n",
      "ptp 91531.46\n",
      "mean 5908.229\n",
      "std 7346.697\n",
      "median 3264.6226\n"
     ]
    }
   ],
   "source": [
    "#重新训练模型,使用全量数据\n",
    "#创建xgb模型\n",
    "xgb.fit(X_data,Y_data)\n",
    "y_pred=xgb.predict(X_test)\n",
    "show_stats(y_pred)"
   ]
  },
  {
   "cell_type": "code",
   "execution_count": 20,
   "metadata": {},
   "outputs": [],
   "source": [
    "#输出结果\n",
    "\n",
    "result=pd.DataFrame(columns=['SaleID','price'])\n",
    "test_data=pd.read_csv('used_car_testB_20200421.csv',sep=' ')\n",
    "\n",
    "result['SaleID']=test_data['SaleID']\n",
    "result['price']=y_pred\n",
    "\n",
    "result.loc[result['price']<11,'price']=11 #将结果中price<11的部分重新定义为11\n",
    "result.to_csv('./xgb_baseline2.csv',index=False)"
   ]
  },
  {
   "cell_type": "markdown",
   "metadata": {},
   "source": [
    "## 使用XGBoost,对日期特征进行了处理\n",
    "* Score=585.2867"
   ]
  },
  {
   "cell_type": "code",
   "execution_count": null,
   "metadata": {},
   "outputs": [],
   "source": []
  },
  {
   "cell_type": "code",
   "execution_count": null,
   "metadata": {},
   "outputs": [],
   "source": []
  },
  {
   "cell_type": "code",
   "execution_count": null,
   "metadata": {},
   "outputs": [],
   "source": []
  },
  {
   "cell_type": "code",
   "execution_count": null,
   "metadata": {},
   "outputs": [],
   "source": []
  },
  {
   "cell_type": "code",
   "execution_count": null,
   "metadata": {},
   "outputs": [],
   "source": []
  },
  {
   "cell_type": "code",
   "execution_count": null,
   "metadata": {},
   "outputs": [],
   "source": []
  },
  {
   "cell_type": "code",
   "execution_count": null,
   "metadata": {},
   "outputs": [],
   "source": []
  },
  {
   "cell_type": "code",
   "execution_count": null,
   "metadata": {},
   "outputs": [],
   "source": []
  },
  {
   "cell_type": "code",
   "execution_count": null,
   "metadata": {},
   "outputs": [],
   "source": []
  },
  {
   "cell_type": "code",
   "execution_count": null,
   "metadata": {},
   "outputs": [],
   "source": []
  },
  {
   "cell_type": "code",
   "execution_count": null,
   "metadata": {},
   "outputs": [],
   "source": []
  },
  {
   "cell_type": "code",
   "execution_count": null,
   "metadata": {},
   "outputs": [],
   "source": []
  },
  {
   "cell_type": "code",
   "execution_count": null,
   "metadata": {},
   "outputs": [],
   "source": []
  }
 ],
 "metadata": {
  "kernelspec": {
   "display_name": "Python 3",
   "language": "python",
   "name": "python3"
  },
  "language_info": {
   "codemirror_mode": {
    "name": "ipython",
    "version": 3
   },
   "file_extension": ".py",
   "mimetype": "text/x-python",
   "name": "python",
   "nbconvert_exporter": "python",
   "pygments_lexer": "ipython3",
   "version": "3.8.5"
  }
 },
 "nbformat": 4,
 "nbformat_minor": 4
}
