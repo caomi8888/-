{
 "cells": [
  {
   "cell_type": "markdown",
   "metadata": {},
   "source": [
    "## 只使用时间diff, 调整XgbOOST学习率=0.005，n_estimators=5000"
   ]
  },
  {
   "cell_type": "code",
   "execution_count": 33,
   "metadata": {},
   "outputs": [],
   "source": [
    "import pandas as pd\n",
    "import pickle\n",
    "with open('./X_data.pkl','rb') as file:\n",
    "    X_data=pickle.load(file)\n",
    "with open('./Y_data.pkl','rb') as file:\n",
    "    Y_data=pickle.load(file)\n",
    "with open('./X_test.pkl','rb') as file:\n",
    "    X_test=pickle.load(file)"
   ]
  },
  {
   "cell_type": "code",
   "execution_count": 34,
   "metadata": {},
   "outputs": [
    {
     "data": {
      "text/html": [
       "<div>\n",
       "<style scoped>\n",
       "    .dataframe tbody tr th:only-of-type {\n",
       "        vertical-align: middle;\n",
       "    }\n",
       "\n",
       "    .dataframe tbody tr th {\n",
       "        vertical-align: top;\n",
       "    }\n",
       "\n",
       "    .dataframe thead th {\n",
       "        text-align: right;\n",
       "    }\n",
       "</style>\n",
       "<table border=\"1\" class=\"dataframe\">\n",
       "  <thead>\n",
       "    <tr style=\"text-align: right;\">\n",
       "      <th></th>\n",
       "      <th>regDate</th>\n",
       "      <th>creatDate</th>\n",
       "    </tr>\n",
       "  </thead>\n",
       "  <tbody>\n",
       "    <tr>\n",
       "      <th>0</th>\n",
       "      <td>20040402</td>\n",
       "      <td>20160404</td>\n",
       "    </tr>\n",
       "    <tr>\n",
       "      <th>1</th>\n",
       "      <td>20030301</td>\n",
       "      <td>20160309</td>\n",
       "    </tr>\n",
       "    <tr>\n",
       "      <th>2</th>\n",
       "      <td>20040403</td>\n",
       "      <td>20160402</td>\n",
       "    </tr>\n",
       "    <tr>\n",
       "      <th>3</th>\n",
       "      <td>19960908</td>\n",
       "      <td>20160312</td>\n",
       "    </tr>\n",
       "    <tr>\n",
       "      <th>4</th>\n",
       "      <td>20120103</td>\n",
       "      <td>20160313</td>\n",
       "    </tr>\n",
       "    <tr>\n",
       "      <th>...</th>\n",
       "      <td>...</td>\n",
       "      <td>...</td>\n",
       "    </tr>\n",
       "    <tr>\n",
       "      <th>149995</th>\n",
       "      <td>20000607</td>\n",
       "      <td>20160327</td>\n",
       "    </tr>\n",
       "    <tr>\n",
       "      <th>149996</th>\n",
       "      <td>20091102</td>\n",
       "      <td>20160312</td>\n",
       "    </tr>\n",
       "    <tr>\n",
       "      <th>149997</th>\n",
       "      <td>20101003</td>\n",
       "      <td>20160328</td>\n",
       "    </tr>\n",
       "    <tr>\n",
       "      <th>149998</th>\n",
       "      <td>20060312</td>\n",
       "      <td>20160401</td>\n",
       "    </tr>\n",
       "    <tr>\n",
       "      <th>149999</th>\n",
       "      <td>19990204</td>\n",
       "      <td>20160305</td>\n",
       "    </tr>\n",
       "  </tbody>\n",
       "</table>\n",
       "<p>150000 rows × 2 columns</p>\n",
       "</div>"
      ],
      "text/plain": [
       "         regDate  creatDate\n",
       "0       20040402   20160404\n",
       "1       20030301   20160309\n",
       "2       20040403   20160402\n",
       "3       19960908   20160312\n",
       "4       20120103   20160313\n",
       "...          ...        ...\n",
       "149995  20000607   20160327\n",
       "149996  20091102   20160312\n",
       "149997  20101003   20160328\n",
       "149998  20060312   20160401\n",
       "149999  19990204   20160305\n",
       "\n",
       "[150000 rows x 2 columns]"
      ]
     },
     "execution_count": 34,
     "metadata": {},
     "output_type": "execute_result"
    }
   ],
   "source": [
    "X_data[['regDate','creatDate']]"
   ]
  },
  {
   "cell_type": "code",
   "execution_count": 35,
   "metadata": {},
   "outputs": [
    {
     "data": {
      "text/html": [
       "<div>\n",
       "<style scoped>\n",
       "    .dataframe tbody tr th:only-of-type {\n",
       "        vertical-align: middle;\n",
       "    }\n",
       "\n",
       "    .dataframe tbody tr th {\n",
       "        vertical-align: top;\n",
       "    }\n",
       "\n",
       "    .dataframe thead th {\n",
       "        text-align: right;\n",
       "    }\n",
       "</style>\n",
       "<table border=\"1\" class=\"dataframe\">\n",
       "  <thead>\n",
       "    <tr style=\"text-align: right;\">\n",
       "      <th></th>\n",
       "      <th>regDate</th>\n",
       "      <th>creatDate</th>\n",
       "    </tr>\n",
       "  </thead>\n",
       "  <tbody>\n",
       "    <tr>\n",
       "      <th>0</th>\n",
       "      <td>2004-04-02</td>\n",
       "      <td>2016-04-04</td>\n",
       "    </tr>\n",
       "    <tr>\n",
       "      <th>1</th>\n",
       "      <td>2003-03-01</td>\n",
       "      <td>2016-03-09</td>\n",
       "    </tr>\n",
       "    <tr>\n",
       "      <th>2</th>\n",
       "      <td>2004-04-03</td>\n",
       "      <td>2016-04-02</td>\n",
       "    </tr>\n",
       "    <tr>\n",
       "      <th>3</th>\n",
       "      <td>1996-09-08</td>\n",
       "      <td>2016-03-12</td>\n",
       "    </tr>\n",
       "    <tr>\n",
       "      <th>4</th>\n",
       "      <td>2012-01-03</td>\n",
       "      <td>2016-03-13</td>\n",
       "    </tr>\n",
       "    <tr>\n",
       "      <th>...</th>\n",
       "      <td>...</td>\n",
       "      <td>...</td>\n",
       "    </tr>\n",
       "    <tr>\n",
       "      <th>149995</th>\n",
       "      <td>2000-06-07</td>\n",
       "      <td>2016-03-27</td>\n",
       "    </tr>\n",
       "    <tr>\n",
       "      <th>149996</th>\n",
       "      <td>2009-11-02</td>\n",
       "      <td>2016-03-12</td>\n",
       "    </tr>\n",
       "    <tr>\n",
       "      <th>149997</th>\n",
       "      <td>2010-10-03</td>\n",
       "      <td>2016-03-28</td>\n",
       "    </tr>\n",
       "    <tr>\n",
       "      <th>149998</th>\n",
       "      <td>2006-03-12</td>\n",
       "      <td>2016-04-01</td>\n",
       "    </tr>\n",
       "    <tr>\n",
       "      <th>149999</th>\n",
       "      <td>1999-02-04</td>\n",
       "      <td>2016-03-05</td>\n",
       "    </tr>\n",
       "  </tbody>\n",
       "</table>\n",
       "<p>150000 rows × 2 columns</p>\n",
       "</div>"
      ],
      "text/plain": [
       "          regDate  creatDate\n",
       "0      2004-04-02 2016-04-04\n",
       "1      2003-03-01 2016-03-09\n",
       "2      2004-04-03 2016-04-02\n",
       "3      1996-09-08 2016-03-12\n",
       "4      2012-01-03 2016-03-13\n",
       "...           ...        ...\n",
       "149995 2000-06-07 2016-03-27\n",
       "149996 2009-11-02 2016-03-12\n",
       "149997 2010-10-03 2016-03-28\n",
       "149998 2006-03-12 2016-04-01\n",
       "149999 1999-02-04 2016-03-05\n",
       "\n",
       "[150000 rows x 2 columns]"
      ]
     },
     "execution_count": 35,
     "metadata": {},
     "output_type": "execute_result"
    }
   ],
   "source": [
    "# 对日期格式进行清洗\n",
    "def f(x):\n",
    "    x=str(x)\n",
    "    if x[4:6]=='00':\n",
    "        return x[0:4]+'-'+'01'+'-'+x[6:8]\n",
    "    else:\n",
    "        return x[0:4]+'-'+x[4:6]+'-'+x[6:8]\n",
    "    \n",
    "X_data['regDate']=pd.to_datetime(X_data['regDate'].apply(f)) #这里apply运用了一个自己写的函数，来调整时间格式\n",
    "X_data['creatDate']=pd.to_datetime(X_data['creatDate'].apply(f))\n",
    "X_data[['regDate','creatDate']]        "
   ]
  },
  {
   "cell_type": "code",
   "execution_count": 36,
   "metadata": {},
   "outputs": [],
   "source": [
    "# 对X_test数据也要处理一下\n",
    "X_test['regDate']=pd.to_datetime(X_test['regDate'].apply(f)) #这里apply运用了一个自己写的函数，来调整时间格式\n",
    "X_test['creatDate']=pd.to_datetime(X_test['creatDate'].apply(f))"
   ]
  },
  {
   "cell_type": "code",
   "execution_count": 37,
   "metadata": {},
   "outputs": [],
   "source": [
    "#提取时间diff\n",
    "#1991-01-01\n",
    "X_data['regDate'].min()\n",
    "X_test['regDate'].min()\n",
    "base_date=pd.to_datetime('1991-01-01')\n",
    "X_data['regDate_diff']=(X_data['regDate']-base_date).dt.days #间隔的天数\n",
    "X_test['regDate_diff']=(X_test['regDate']-base_date).dt.days"
   ]
  },
  {
   "cell_type": "code",
   "execution_count": 38,
   "metadata": {},
   "outputs": [],
   "source": [
    "#提取时间diff\n",
    "#1991-01-01\n",
    "X_data['creatDate'].min()\n",
    "X_test['creatDate'].min()\n",
    "base_date=pd.to_datetime('2014-03-10')# 这里应该找训练集，测试集中最小的数据\n",
    "\n",
    "X_data['creatDate_diff']=(X_data['creatDate']-base_date).dt.days #间隔的天数\n",
    "X_test['creatDate_diff']=(X_test['creatDate']-base_date).dt.days\n"
   ]
  },
  {
   "cell_type": "code",
   "execution_count": 39,
   "metadata": {},
   "outputs": [],
   "source": [
    "#构造新特征'creatDate-regDate\n",
    "X_data['creatDate-regDate']=(X_data['creatDate']-X_data['regDate']).dt.days #注意（）括号\n",
    "X_test['creatDate-regDate']=(X_test['creatDate']-X_test['regDate']).dt.days #注意（）括号"
   ]
  },
  {
   "cell_type": "code",
   "execution_count": 40,
   "metadata": {},
   "outputs": [],
   "source": [
    "#去掉原始的日期类型\n",
    "X_data.drop(['regDate','creatDate'],axis=1,inplace=True)\n",
    "X_test.drop(['regDate','creatDate'],axis=1,inplace=True)\n"
   ]
  },
  {
   "cell_type": "code",
   "execution_count": 41,
   "metadata": {},
   "outputs": [],
   "source": [
    "## 数据集切分\n",
    "from sklearn.model_selection import train_test_split\n",
    "x_train,x_val,y_train,y_val=train_test_split(X_data,Y_data,test_size=0.2,random_state=2021)\n",
    "import lightgbm as lgb\n",
    "#创建xgb模型\n",
    "lgb_model=lgb.LGBMRegressor(\n",
    "        num_leaves=2**5-1,reg_alpha=0.25,reg_lambda=0.25,objective='regression',\n",
    "        max_depth=1,learning_rate=0.005,min_child_samples=3, random_state=2021,\n",
    "        n_estimators=6000, subsample=1,colsample_bytree=1)\n",
    "lgb_model.fit(x_train,y_train)\n",
    "y_pred=lgb_model.predict(x_val)"
   ]
  },
  {
   "cell_type": "code",
   "execution_count": 42,
   "metadata": {
    "scrolled": true
   },
   "outputs": [
    {
     "name": "stdout",
     "output_type": "stream",
     "text": [
      "min -3333.836413470717\n",
      "max 71979.27727670276\n",
      "ptp 75313.11369017349\n",
      "mean 5917.955961789614\n",
      "std 7015.707534018446\n",
      "median 3323.358116023834\n"
     ]
    }
   ],
   "source": [
    "import numpy as np\n",
    "#统计price的分布\n",
    "def show_stats(data):\n",
    "    print('min',np.min(data))\n",
    "    print('max',np.max(data))\n",
    "    print('ptp',np.ptp(data)) #计算最大值与最小值的差(极差) peak to peak\n",
    "    print('mean',np.mean(data))\n",
    "    print('std',np.std(data)) #标准差\n",
    "    print('median',np.median(data))\n",
    "#查询price的统计\n",
    "show_stats(y_pred)"
   ]
  },
  {
   "cell_type": "code",
   "execution_count": 47,
   "metadata": {},
   "outputs": [
    {
     "data": {
      "text/plain": [
       "array([1193.64696132, 2035.56683028, 8919.48770719, ..., 6008.84716278,\n",
       "       5506.51443182, 4751.4529417 ])"
      ]
     },
     "execution_count": 47,
     "metadata": {},
     "output_type": "execute_result"
    }
   ],
   "source": [
    "y_pred"
   ]
  },
  {
   "cell_type": "code",
   "execution_count": 44,
   "metadata": {},
   "outputs": [
    {
     "data": {
      "text/plain": [
       "1082.1283107025315"
      ]
     },
     "execution_count": 44,
     "metadata": {},
     "output_type": "execute_result"
    }
   ],
   "source": [
    "from sklearn.metrics import mean_absolute_error\n",
    "mean_absolute_error(y_pred,y_val)"
   ]
  },
  {
   "cell_type": "code",
   "execution_count": 45,
   "metadata": {},
   "outputs": [
    {
     "name": "stdout",
     "output_type": "stream",
     "text": [
      "min -3657.1350616548384\n",
      "max 71286.62264008349\n",
      "ptp 74943.75770173833\n",
      "mean 5918.34481250645\n",
      "std 7073.469016929869\n",
      "median 3249.490268353302\n"
     ]
    }
   ],
   "source": [
    "#重新训练模型,使用全量数据\n",
    "#创建xgb模型\n",
    "lgb_model.fit(X_data,Y_data)\n",
    "y_pred=lgb_model.predict(X_test)\n",
    "show_stats(y_pred)"
   ]
  },
  {
   "cell_type": "code",
   "execution_count": 52,
   "metadata": {},
   "outputs": [
    {
     "data": {
      "text/html": [
       "<div>\n",
       "<style scoped>\n",
       "    .dataframe tbody tr th:only-of-type {\n",
       "        vertical-align: middle;\n",
       "    }\n",
       "\n",
       "    .dataframe tbody tr th {\n",
       "        vertical-align: top;\n",
       "    }\n",
       "\n",
       "    .dataframe thead th {\n",
       "        text-align: right;\n",
       "    }\n",
       "</style>\n",
       "<table border=\"1\" class=\"dataframe\">\n",
       "  <thead>\n",
       "    <tr style=\"text-align: right;\">\n",
       "      <th></th>\n",
       "      <th>SaleID</th>\n",
       "      <th>price</th>\n",
       "      <th>lgb_price</th>\n",
       "    </tr>\n",
       "  </thead>\n",
       "  <tbody>\n",
       "    <tr>\n",
       "      <th>0</th>\n",
       "      <td>200000</td>\n",
       "      <td>1273.541278</td>\n",
       "      <td>1193.646961</td>\n",
       "    </tr>\n",
       "    <tr>\n",
       "      <th>1</th>\n",
       "      <td>200001</td>\n",
       "      <td>1892.347299</td>\n",
       "      <td>2035.566830</td>\n",
       "    </tr>\n",
       "    <tr>\n",
       "      <th>2</th>\n",
       "      <td>200002</td>\n",
       "      <td>8690.269412</td>\n",
       "      <td>8919.487707</td>\n",
       "    </tr>\n",
       "    <tr>\n",
       "      <th>3</th>\n",
       "      <td>200003</td>\n",
       "      <td>1144.895865</td>\n",
       "      <td>952.681849</td>\n",
       "    </tr>\n",
       "    <tr>\n",
       "      <th>4</th>\n",
       "      <td>200004</td>\n",
       "      <td>2011.647156</td>\n",
       "      <td>2065.075952</td>\n",
       "    </tr>\n",
       "    <tr>\n",
       "      <th>...</th>\n",
       "      <td>...</td>\n",
       "      <td>...</td>\n",
       "      <td>...</td>\n",
       "    </tr>\n",
       "    <tr>\n",
       "      <th>49995</th>\n",
       "      <td>249995</td>\n",
       "      <td>6460.905046</td>\n",
       "      <td>6642.866888</td>\n",
       "    </tr>\n",
       "    <tr>\n",
       "      <th>49996</th>\n",
       "      <td>249996</td>\n",
       "      <td>19155.738938</td>\n",
       "      <td>19774.566792</td>\n",
       "    </tr>\n",
       "    <tr>\n",
       "      <th>49997</th>\n",
       "      <td>249997</td>\n",
       "      <td>5937.279749</td>\n",
       "      <td>6008.847163</td>\n",
       "    </tr>\n",
       "    <tr>\n",
       "      <th>49998</th>\n",
       "      <td>249998</td>\n",
       "      <td>5272.193680</td>\n",
       "      <td>5506.514432</td>\n",
       "    </tr>\n",
       "    <tr>\n",
       "      <th>49999</th>\n",
       "      <td>249999</td>\n",
       "      <td>5116.347863</td>\n",
       "      <td>4751.452942</td>\n",
       "    </tr>\n",
       "  </tbody>\n",
       "</table>\n",
       "<p>50000 rows × 3 columns</p>\n",
       "</div>"
      ],
      "text/plain": [
       "       SaleID         price     lgb_price\n",
       "0      200000   1273.541278   1193.646961\n",
       "1      200001   1892.347299   2035.566830\n",
       "2      200002   8690.269412   8919.487707\n",
       "3      200003   1144.895865    952.681849\n",
       "4      200004   2011.647156   2065.075952\n",
       "...       ...           ...           ...\n",
       "49995  249995   6460.905046   6642.866888\n",
       "49996  249996  19155.738938  19774.566792\n",
       "49997  249997   5937.279749   6008.847163\n",
       "49998  249998   5272.193680   5506.514432\n",
       "49999  249999   5116.347863   4751.452942\n",
       "\n",
       "[50000 rows x 3 columns]"
      ]
     },
     "execution_count": 52,
     "metadata": {},
     "output_type": "execute_result"
    }
   ],
   "source": [
    "#读取xgb_baseline3.csv\n",
    "xgb_pred=pd.read_csv('./xgb_baseline3.csv')\n",
    "xgb_pred\n",
    "xgb_pred['lgb_price']=y_pred\n",
    "xgb_pred\n",
    "xgb_pred.loc[xgb_pred['lgb_price']<11,'lgb_price']=11\n",
    "#xgb效果好，设置xgb权重为0.7，lightgbm权重为0.3\n",
    "xgb_pred['price']=xgb_pred['price']*0.7+xgb_pred['lgb_price']*0.3\n",
    "xgb_pred"
   ]
  },
  {
   "cell_type": "code",
   "execution_count": 56,
   "metadata": {},
   "outputs": [],
   "source": [
    "#输出结果\n",
    "result=xgb_pred[['SaleID','price']]\n",
    "result.to_csv('./xgb_lgb_baseline1.csv',index=False)"
   ]
  },
  {
   "cell_type": "markdown",
   "metadata": {},
   "source": [
    "### 使用XGBoost,对日期特征进行了处理\n",
    "# Score=585.2867"
   ]
  },
  {
   "cell_type": "code",
   "execution_count": null,
   "metadata": {},
   "outputs": [],
   "source": []
  },
  {
   "cell_type": "code",
   "execution_count": null,
   "metadata": {},
   "outputs": [],
   "source": []
  },
  {
   "cell_type": "code",
   "execution_count": null,
   "metadata": {},
   "outputs": [],
   "source": []
  },
  {
   "cell_type": "code",
   "execution_count": null,
   "metadata": {},
   "outputs": [],
   "source": []
  },
  {
   "cell_type": "code",
   "execution_count": null,
   "metadata": {},
   "outputs": [],
   "source": []
  },
  {
   "cell_type": "code",
   "execution_count": null,
   "metadata": {},
   "outputs": [],
   "source": []
  },
  {
   "cell_type": "code",
   "execution_count": null,
   "metadata": {},
   "outputs": [],
   "source": []
  },
  {
   "cell_type": "code",
   "execution_count": null,
   "metadata": {},
   "outputs": [],
   "source": []
  },
  {
   "cell_type": "code",
   "execution_count": null,
   "metadata": {},
   "outputs": [],
   "source": []
  },
  {
   "cell_type": "code",
   "execution_count": null,
   "metadata": {},
   "outputs": [],
   "source": []
  },
  {
   "cell_type": "code",
   "execution_count": null,
   "metadata": {},
   "outputs": [],
   "source": []
  },
  {
   "cell_type": "code",
   "execution_count": null,
   "metadata": {},
   "outputs": [],
   "source": []
  },
  {
   "cell_type": "code",
   "execution_count": null,
   "metadata": {},
   "outputs": [],
   "source": []
  }
 ],
 "metadata": {
  "kernelspec": {
   "display_name": "Python 3",
   "language": "python",
   "name": "python3"
  },
  "language_info": {
   "codemirror_mode": {
    "name": "ipython",
    "version": 3
   },
   "file_extension": ".py",
   "mimetype": "text/x-python",
   "name": "python",
   "nbconvert_exporter": "python",
   "pygments_lexer": "ipython3",
   "version": "3.8.5"
  }
 },
 "nbformat": 4,
 "nbformat_minor": 4
}
